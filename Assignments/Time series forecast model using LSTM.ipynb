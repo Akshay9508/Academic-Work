{
 "cells": [
  {
   "cell_type": "code",
   "execution_count": 1,
   "id": "eight-concentration",
   "metadata": {},
   "outputs": [],
   "source": [
    "import pandas as pd\n",
    "import numpy as np\n",
    "import matplotlib.pyplot as plt"
   ]
  },
  {
   "cell_type": "code",
   "execution_count": 2,
   "id": "stylish-venice",
   "metadata": {},
   "outputs": [
    {
     "data": {
      "text/html": [
       "<div>\n",
       "<style scoped>\n",
       "    .dataframe tbody tr th:only-of-type {\n",
       "        vertical-align: middle;\n",
       "    }\n",
       "\n",
       "    .dataframe tbody tr th {\n",
       "        vertical-align: top;\n",
       "    }\n",
       "\n",
       "    .dataframe thead th {\n",
       "        text-align: right;\n",
       "    }\n",
       "</style>\n",
       "<table border=\"1\" class=\"dataframe\">\n",
       "  <thead>\n",
       "    <tr style=\"text-align: right;\">\n",
       "      <th></th>\n",
       "      <th>Period</th>\n",
       "      <th>Cement Consumption</th>\n",
       "    </tr>\n",
       "    <tr>\n",
       "      <th>Month</th>\n",
       "      <th></th>\n",
       "      <th></th>\n",
       "    </tr>\n",
       "  </thead>\n",
       "  <tbody>\n",
       "    <tr>\n",
       "      <th>2001-04-01</th>\n",
       "      <td>1</td>\n",
       "      <td>333224</td>\n",
       "    </tr>\n",
       "    <tr>\n",
       "      <th>2001-05-01</th>\n",
       "      <td>2</td>\n",
       "      <td>399256</td>\n",
       "    </tr>\n",
       "    <tr>\n",
       "      <th>2001-06-01</th>\n",
       "      <td>3</td>\n",
       "      <td>626754</td>\n",
       "    </tr>\n",
       "    <tr>\n",
       "      <th>2001-07-01</th>\n",
       "      <td>4</td>\n",
       "      <td>366388</td>\n",
       "    </tr>\n",
       "    <tr>\n",
       "      <th>2001-08-01</th>\n",
       "      <td>5</td>\n",
       "      <td>361452</td>\n",
       "    </tr>\n",
       "  </tbody>\n",
       "</table>\n",
       "</div>"
      ],
      "text/plain": [
       "            Period  Cement Consumption\n",
       "Month                                 \n",
       "2001-04-01       1              333224\n",
       "2001-05-01       2              399256\n",
       "2001-06-01       3              626754\n",
       "2001-07-01       4              366388\n",
       "2001-08-01       5              361452"
      ]
     },
     "execution_count": 2,
     "metadata": {},
     "output_type": "execute_result"
    }
   ],
   "source": [
    "data = pd.read_excel(r'C:\\Users\\aksha\\Downloads\\3d22402c-5def-4055-9b59-77484428a6c4-Cement-Consumption-.xlsx',index_col='Month',parse_dates=True)\n",
    "data.head()"
   ]
  },
  {
   "cell_type": "code",
   "execution_count": 3,
   "id": "animal-burke",
   "metadata": {},
   "outputs": [
    {
     "name": "stdout",
     "output_type": "stream",
     "text": [
      "<class 'pandas.core.frame.DataFrame'>\n",
      "DatetimeIndex: 116 entries, 2001-04-01 to 2010-11-01\n",
      "Data columns (total 2 columns):\n",
      " #   Column              Non-Null Count  Dtype\n",
      "---  ------              --------------  -----\n",
      " 0   Period              116 non-null    int64\n",
      " 1   Cement Consumption  116 non-null    int64\n",
      "dtypes: int64(2)\n",
      "memory usage: 2.7 KB\n"
     ]
    }
   ],
   "source": [
    "data.info()"
   ]
  },
  {
   "cell_type": "code",
   "execution_count": 4,
   "id": "disciplinary-highland",
   "metadata": {},
   "outputs": [],
   "source": [
    "## Remove Period column\n",
    "data = data.pop('Cement Consumption')"
   ]
  },
  {
   "cell_type": "code",
   "execution_count": 5,
   "id": "cross-kitchen",
   "metadata": {},
   "outputs": [],
   "source": [
    "data = pd.DataFrame(data)"
   ]
  },
  {
   "cell_type": "code",
   "execution_count": 6,
   "id": "continuous-apparatus",
   "metadata": {},
   "outputs": [
    {
     "data": {
      "text/html": [
       "<div>\n",
       "<style scoped>\n",
       "    .dataframe tbody tr th:only-of-type {\n",
       "        vertical-align: middle;\n",
       "    }\n",
       "\n",
       "    .dataframe tbody tr th {\n",
       "        vertical-align: top;\n",
       "    }\n",
       "\n",
       "    .dataframe thead th {\n",
       "        text-align: right;\n",
       "    }\n",
       "</style>\n",
       "<table border=\"1\" class=\"dataframe\">\n",
       "  <thead>\n",
       "    <tr style=\"text-align: right;\">\n",
       "      <th></th>\n",
       "      <th>Cement Consumption</th>\n",
       "    </tr>\n",
       "    <tr>\n",
       "      <th>Month</th>\n",
       "      <th></th>\n",
       "    </tr>\n",
       "  </thead>\n",
       "  <tbody>\n",
       "    <tr>\n",
       "      <th>2001-04-01</th>\n",
       "      <td>333224</td>\n",
       "    </tr>\n",
       "    <tr>\n",
       "      <th>2001-05-01</th>\n",
       "      <td>399256</td>\n",
       "    </tr>\n",
       "    <tr>\n",
       "      <th>2001-06-01</th>\n",
       "      <td>626754</td>\n",
       "    </tr>\n",
       "    <tr>\n",
       "      <th>2001-07-01</th>\n",
       "      <td>366388</td>\n",
       "    </tr>\n",
       "    <tr>\n",
       "      <th>2001-08-01</th>\n",
       "      <td>361452</td>\n",
       "    </tr>\n",
       "  </tbody>\n",
       "</table>\n",
       "</div>"
      ],
      "text/plain": [
       "            Cement Consumption\n",
       "Month                         \n",
       "2001-04-01              333224\n",
       "2001-05-01              399256\n",
       "2001-06-01              626754\n",
       "2001-07-01              366388\n",
       "2001-08-01              361452"
      ]
     },
     "execution_count": 6,
     "metadata": {},
     "output_type": "execute_result"
    }
   ],
   "source": [
    "data.head()"
   ]
  },
  {
   "cell_type": "code",
   "execution_count": 7,
   "id": "dependent-prime",
   "metadata": {},
   "outputs": [
    {
     "data": {
      "text/plain": [
       "(116, 1)"
      ]
     },
     "execution_count": 7,
     "metadata": {},
     "output_type": "execute_result"
    }
   ],
   "source": [
    "data.shape"
   ]
  },
  {
   "cell_type": "code",
   "execution_count": 8,
   "id": "radical-relevance",
   "metadata": {},
   "outputs": [
    {
     "data": {
      "text/plain": [
       "<AxesSubplot:xlabel='Month'>"
      ]
     },
     "execution_count": 8,
     "metadata": {},
     "output_type": "execute_result"
    },
    {
     "data": {
      "image/png": "[encoded data removed]",
      "text/plain": [
       "<Figure size 576x432 with 1 Axes>"
      ]
     },
     "metadata": {
      "needs_background": "light"
     },
     "output_type": "display_data"
    }
   ],
   "source": [
    "data.plot(figsize=(8,6))"
   ]
  },
  {
   "cell_type": "code",
   "execution_count": 9,
   "id": "verbal-genre",
   "metadata": {},
   "outputs": [
    {
     "data": {
      "text/plain": [
       "104"
      ]
     },
     "execution_count": 9,
     "metadata": {},
     "output_type": "execute_result"
    }
   ],
   "source": [
    "len(data)-12"
   ]
  },
  {
   "cell_type": "code",
   "execution_count": 10,
   "id": "constant-earth",
   "metadata": {},
   "outputs": [],
   "source": [
    "train = data.iloc[:104]\n",
    "test = data.iloc[104:]"
   ]
  },
  {
   "cell_type": "code",
   "execution_count": 11,
   "id": "caroline-digest",
   "metadata": {},
   "outputs": [
    {
     "data": {
      "text/plain": [
       "104"
      ]
     },
     "execution_count": 11,
     "metadata": {},
     "output_type": "execute_result"
    }
   ],
   "source": [
    "len(train)"
   ]
  },
  {
   "cell_type": "code",
   "execution_count": 12,
   "id": "nonprofit-charge",
   "metadata": {},
   "outputs": [
    {
     "data": {
      "text/plain": [
       "12"
      ]
     },
     "execution_count": 12,
     "metadata": {},
     "output_type": "execute_result"
    }
   ],
   "source": [
    "len(test)"
   ]
  },
  {
   "cell_type": "code",
   "execution_count": 13,
   "id": "cooperative-powder",
   "metadata": {},
   "outputs": [],
   "source": [
    "#Normalization of data\n",
    "from sklearn.preprocessing import MinMaxScaler"
   ]
  },
  {
   "cell_type": "code",
   "execution_count": 14,
   "id": "novel-regulation",
   "metadata": {},
   "outputs": [],
   "source": [
    "scaler = MinMaxScaler()"
   ]
  },
  {
   "cell_type": "code",
   "execution_count": 15,
   "id": "interior-picking",
   "metadata": {},
   "outputs": [],
   "source": [
    "train_scaled = scaler.fit_transform(train)\n",
    "test_scaled = scaler.fit_transform(test)"
   ]
  },
  {
   "cell_type": "code",
   "execution_count": 16,
   "id": "corresponding-ethiopia",
   "metadata": {},
   "outputs": [
    {
     "data": {
      "text/plain": [
       "array([[0.88970031],\n",
       "       [1.        ],\n",
       "       [0.40434906],\n",
       "       [0.76532899],\n",
       "       [0.71250843],\n",
       "       [0.76288301],\n",
       "       [0.860892  ],\n",
       "       [0.43399189],\n",
       "       [0.27804334],\n",
       "       [0.33713394],\n",
       "       [0.89784721],\n",
       "       [0.        ]])"
      ]
     },
     "execution_count": 16,
     "metadata": {},
     "output_type": "execute_result"
    }
   ],
   "source": [
    "test_scaled"
   ]
  },
  {
   "cell_type": "code",
   "execution_count": 17,
   "id": "statewide-cleanup",
   "metadata": {},
   "outputs": [],
   "source": [
    "from keras.preprocessing.sequence import TimeseriesGenerator"
   ]
  },
  {
   "cell_type": "code",
   "execution_count": 18,
   "id": "written-lemon",
   "metadata": {},
   "outputs": [],
   "source": [
    "#We will take 12 values to predict the time series data\n",
    "n_input = 12\n",
    "generator = TimeseriesGenerator(train_scaled,train_scaled,length = n_input,batch_size=1)"
   ]
  },
  {
   "cell_type": "code",
   "execution_count": 19,
   "id": "alternate-circumstances",
   "metadata": {},
   "outputs": [
    {
     "data": {
      "text/plain": [
       "array([[0.        ],\n",
       "       [0.08803023],\n",
       "       [0.39131803],\n",
       "       [0.04421242],\n",
       "       [0.03763201],\n",
       "       [0.07207648],\n",
       "       [0.06186326],\n",
       "       [0.1007071 ],\n",
       "       [0.12606218],\n",
       "       [0.16722437],\n",
       "       [0.10848067],\n",
       "       [0.41991132]])"
      ]
     },
     "execution_count": 19,
     "metadata": {},
     "output_type": "execute_result"
    }
   ],
   "source": [
    "train_scaled[:12]"
   ]
  },
  {
   "cell_type": "code",
   "execution_count": 20,
   "id": "concerned-collectible",
   "metadata": {},
   "outputs": [
    {
     "data": {
      "text/plain": [
       "(array([[[0.08803023],\n",
       "         [0.39131803],\n",
       "         [0.04421242],\n",
       "         [0.03763201],\n",
       "         [0.07207648],\n",
       "         [0.06186326],\n",
       "         [0.1007071 ],\n",
       "         [0.12606218],\n",
       "         [0.16722437],\n",
       "         [0.10848067],\n",
       "         [0.41991132],\n",
       "         [0.15038541]]]),\n",
       " array([[0.16596588]]))"
      ]
     },
     "execution_count": 20,
     "metadata": {},
     "output_type": "execute_result"
    }
   ],
   "source": [
    "generator[1]"
   ]
  },
  {
   "cell_type": "code",
   "execution_count": 21,
   "id": "still-network",
   "metadata": {},
   "outputs": [
    {
     "data": {
      "text/plain": [
       "92"
      ]
     },
     "execution_count": 21,
     "metadata": {},
     "output_type": "execute_result"
    }
   ],
   "source": [
    "len(generator)"
   ]
  },
  {
   "cell_type": "code",
   "execution_count": 22,
   "id": "arabic-belfast",
   "metadata": {},
   "outputs": [],
   "source": [
    "from keras.models import Sequential\n",
    "from keras.layers import Dense\n",
    "from keras.layers import LSTM"
   ]
  },
  {
   "cell_type": "code",
   "execution_count": 23,
   "id": "limiting-strap",
   "metadata": {},
   "outputs": [
    {
     "name": "stdout",
     "output_type": "stream",
     "text": [
      "Epoch 1/50\n",
      "92/92 [==============================] - 2s 3ms/step - loss: 0.0675\n",
      "Epoch 2/50\n",
      "92/92 [==============================] - 0s 3ms/step - loss: 0.0191\n",
      "Epoch 3/50\n",
      "92/92 [==============================] - 0s 3ms/step - loss: 0.0163\n",
      "Epoch 4/50\n",
      "92/92 [==============================] - 0s 3ms/step - loss: 0.0159\n",
      "Epoch 5/50\n",
      "92/92 [==============================] - 0s 4ms/step - loss: 0.0157\n",
      "Epoch 6/50\n",
      "92/92 [==============================] - 0s 4ms/step - loss: 0.0149\n",
      "Epoch 7/50\n",
      "92/92 [==============================] - 0s 3ms/step - loss: 0.0154\n",
      "Epoch 8/50\n",
      "92/92 [==============================] - 0s 3ms/step - loss: 0.0140\n",
      "Epoch 9/50\n",
      "92/92 [==============================] - 0s 3ms/step - loss: 0.0161\n",
      "Epoch 10/50\n",
      "92/92 [==============================] - 0s 3ms/step - loss: 0.0151\n",
      "Epoch 11/50\n",
      "92/92 [==============================] - 0s 3ms/step - loss: 0.0129\n",
      "Epoch 12/50\n",
      "92/92 [==============================] - 0s 3ms/step - loss: 0.0140\n",
      "Epoch 13/50\n",
      "92/92 [==============================] - 0s 3ms/step - loss: 0.0139\n",
      "Epoch 14/50\n",
      "92/92 [==============================] - 0s 3ms/step - loss: 0.0133\n",
      "Epoch 15/50\n",
      "92/92 [==============================] - 0s 3ms/step - loss: 0.0124\n",
      "Epoch 16/50\n",
      "92/92 [==============================] - 0s 3ms/step - loss: 0.0148\n",
      "Epoch 17/50\n",
      "92/92 [==============================] - 0s 3ms/step - loss: 0.0128\n",
      "Epoch 18/50\n",
      "92/92 [==============================] - 0s 3ms/step - loss: 0.0116\n",
      "Epoch 19/50\n",
      "92/92 [==============================] - 0s 3ms/step - loss: 0.0116\n",
      "Epoch 20/50\n",
      "92/92 [==============================] - 0s 3ms/step - loss: 0.0118\n",
      "Epoch 21/50\n",
      "92/92 [==============================] - 0s 3ms/step - loss: 0.0131\n",
      "Epoch 22/50\n",
      "92/92 [==============================] - 0s 3ms/step - loss: 0.0122\n",
      "Epoch 23/50\n",
      "92/92 [==============================] - 0s 3ms/step - loss: 0.0110\n",
      "Epoch 24/50\n",
      "92/92 [==============================] - 0s 3ms/step - loss: 0.0122\n",
      "Epoch 25/50\n",
      "92/92 [==============================] - 0s 3ms/step - loss: 0.0101\n",
      "Epoch 26/50\n",
      "92/92 [==============================] - 0s 3ms/step - loss: 0.0105\n",
      "Epoch 27/50\n",
      "92/92 [==============================] - 0s 4ms/step - loss: 0.0102\n",
      "Epoch 28/50\n",
      "92/92 [==============================] - 0s 3ms/step - loss: 0.0102\n",
      "Epoch 29/50\n",
      "92/92 [==============================] - 0s 3ms/step - loss: 0.0102\n",
      "Epoch 30/50\n",
      "92/92 [==============================] - 0s 4ms/step - loss: 0.0105\n",
      "Epoch 31/50\n",
      "92/92 [==============================] - 0s 4ms/step - loss: 0.0102\n",
      "Epoch 32/50\n",
      "92/92 [==============================] - 0s 3ms/step - loss: 0.0096\n",
      "Epoch 33/50\n",
      "92/92 [==============================] - 0s 3ms/step - loss: 0.0094\n",
      "Epoch 34/50\n",
      "92/92 [==============================] - 0s 3ms/step - loss: 0.0095\n",
      "Epoch 35/50\n",
      "92/92 [==============================] - 0s 3ms/step - loss: 0.0098\n",
      "Epoch 36/50\n",
      "92/92 [==============================] - 0s 4ms/step - loss: 0.0091\n",
      "Epoch 37/50\n",
      "92/92 [==============================] - 0s 4ms/step - loss: 0.0095\n",
      "Epoch 38/50\n",
      "92/92 [==============================] - 0s 3ms/step - loss: 0.0088\n",
      "Epoch 39/50\n",
      "92/92 [==============================] - 0s 3ms/step - loss: 0.0084\n",
      "Epoch 40/50\n",
      "92/92 [==============================] - 0s 3ms/step - loss: 0.0103\n",
      "Epoch 41/50\n",
      "92/92 [==============================] - 0s 3ms/step - loss: 0.0090\n",
      "Epoch 42/50\n",
      "92/92 [==============================] - 0s 3ms/step - loss: 0.0089\n",
      "Epoch 43/50\n",
      "92/92 [==============================] - 0s 4ms/step - loss: 0.0095\n",
      "Epoch 44/50\n",
      "92/92 [==============================] - 0s 3ms/step - loss: 0.0088\n",
      "Epoch 45/50\n",
      "92/92 [==============================] - 0s 3ms/step - loss: 0.0085\n",
      "Epoch 46/50\n",
      "92/92 [==============================] - 0s 3ms/step - loss: 0.0083\n",
      "Epoch 47/50\n",
      "92/92 [==============================] - 0s 3ms/step - loss: 0.0093\n",
      "Epoch 48/50\n",
      "92/92 [==============================] - 0s 3ms/step - loss: 0.0090\n",
      "Epoch 49/50\n",
      "92/92 [==============================] - 0s 3ms/step - loss: 0.0083\n",
      "Epoch 50/50\n",
      "92/92 [==============================] - 0s 3ms/step - loss: 0.0081\n"
     ]
    },
    {
     "data": {
      "text/plain": [
       "<keras.callbacks.History at 0x20d1b22e7f0>"
      ]
     },
     "execution_count": 23,
     "metadata": {},
     "output_type": "execute_result"
    }
   ],
   "source": [
    "# Initializing the RNN\n",
    "\n",
    "## Defining the model\n",
    "rnn = Sequential()\n",
    "\n",
    "# Adding input and hidden layers\n",
    "\n",
    "rnn.add(LSTM(units=100,activation='relu',input_shape=(n_input,1)))\n",
    "\n",
    "# Output Layers\n",
    "\n",
    "rnn.add(Dense(units=1))\n",
    "\n",
    "# Compiling the model\n",
    "\n",
    "rnn.compile(optimizer='adam',loss='mse')\n",
    "\n",
    "# Fitting the model\n",
    "\n",
    "rnn.fit(generator,epochs=50)"
   ]
  },
  {
   "cell_type": "code",
   "execution_count": 24,
   "id": "moving-empire",
   "metadata": {},
   "outputs": [
    {
     "data": {
      "text/plain": [
       "array([[0.88970031],\n",
       "       [1.        ],\n",
       "       [0.40434906],\n",
       "       [0.76532899],\n",
       "       [0.71250843],\n",
       "       [0.76288301],\n",
       "       [0.860892  ],\n",
       "       [0.43399189],\n",
       "       [0.27804334],\n",
       "       [0.33713394],\n",
       "       [0.89784721],\n",
       "       [0.        ]])"
      ]
     },
     "execution_count": 24,
     "metadata": {},
     "output_type": "execute_result"
    }
   ],
   "source": [
    "test_scaled"
   ]
  },
  {
   "cell_type": "code",
   "execution_count": 25,
   "id": "daily-bloom",
   "metadata": {},
   "outputs": [
    {
     "data": {
      "text/plain": [
       "array([[0.84221163],\n",
       "       [0.93607437],\n",
       "       [0.93468923],\n",
       "       [1.        ],\n",
       "       [0.83031865],\n",
       "       [0.72689593],\n",
       "       [0.96917902],\n",
       "       [0.76699027],\n",
       "       [0.63329049],\n",
       "       [0.70980368],\n",
       "       [0.49818426],\n",
       "       [0.49828024]])"
      ]
     },
     "execution_count": 25,
     "metadata": {},
     "output_type": "execute_result"
    }
   ],
   "source": [
    "train_scaled[-12:]"
   ]
  },
  {
   "cell_type": "code",
   "execution_count": 26,
   "id": "heard-broadway",
   "metadata": {},
   "outputs": [],
   "source": [
    "predict_train = train_scaled[-12:]"
   ]
  },
  {
   "cell_type": "code",
   "execution_count": 27,
   "id": "derived-interest",
   "metadata": {},
   "outputs": [],
   "source": [
    "predict_train = predict_train.reshape(1,n_input,1)"
   ]
  },
  {
   "cell_type": "code",
   "execution_count": 28,
   "id": "supported-fantasy",
   "metadata": {},
   "outputs": [
    {
     "data": {
      "text/plain": [
       "(1, 12, 1)"
      ]
     },
     "execution_count": 28,
     "metadata": {},
     "output_type": "execute_result"
    }
   ],
   "source": [
    "predict_train.shape"
   ]
  },
  {
   "cell_type": "code",
   "execution_count": 29,
   "id": "higher-correction",
   "metadata": {},
   "outputs": [
    {
     "data": {
      "text/plain": [
       "array([[0.7384889]], dtype=float32)"
      ]
     },
     "execution_count": 29,
     "metadata": {},
     "output_type": "execute_result"
    }
   ],
   "source": [
    "rnn.predict(predict_train)"
   ]
  },
  {
   "cell_type": "code",
   "execution_count": 30,
   "id": "curious-invasion",
   "metadata": {},
   "outputs": [
    {
     "data": {
      "text/plain": [
       "array([0.88970031])"
      ]
     },
     "execution_count": 30,
     "metadata": {},
     "output_type": "execute_result"
    }
   ],
   "source": [
    "test_scaled[0]"
   ]
  },
  {
   "cell_type": "code",
   "execution_count": null,
   "id": "sporting-ratio",
   "metadata": {},
   "outputs": [],
   "source": []
  }
 ],
 "metadata": {
  "kernelspec": {
   "display_name": "Python 3",
   "language": "python",
   "name": "python3"
  },
  "language_info": {
   "codemirror_mode": {
    "name": "ipython",
    "version": 3
   },
   "file_extension": ".py",
   "mimetype": "text/x-python",
   "name": "python",
   "nbconvert_exporter": "python",
   "pygments_lexer": "ipython3",
   "version": "3.8.5"
  }
 },
 "nbformat": 4,
 "nbformat_minor": 5
}
